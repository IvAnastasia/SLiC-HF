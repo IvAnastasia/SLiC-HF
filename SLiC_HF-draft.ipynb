{
  "cells": [
    {
      "cell_type": "markdown",
      "metadata": {
        "id": "pFzcHDxVaQUj"
      },
      "source": [
        "###Prerequisites"
      ]
    },
    {
      "cell_type": "code",
      "execution_count": null,
      "metadata": {
        "id": "DN1B5Nx4gN05"
      },
      "outputs": [],
      "source": [
        "! pip install transformers"
      ]
    },
    {
      "cell_type": "code",
      "execution_count": null,
      "metadata": {
        "id": "3uoaY___8I3E"
      },
      "outputs": [],
      "source": [
        "! pip install trl"
      ]
    },
    {
      "cell_type": "code",
      "execution_count": 37,
      "metadata": {
        "id": "c_vNzRcm7lv5"
      },
      "outputs": [],
      "source": [
        "import torch\n",
        "import time\n",
        "import os\n",
        "from tqdm import tqdm\n",
        "import numpy as np\n",
        "import pandas as pd\n",
        "tqdm.pandas()\n",
        "\n",
        "from transformers import AutoTokenizer, GPT2TokenizerFast, pipeline\n",
        "\n",
        "from trl.core import build_bert_batch_from_txt, listify_batch, respond_to_batch\n",
        "\n",
        "from trl import PPOTrainer, PPOConfig, DPOTrainer, AutoModelForCausalLMWithValueHead\n",
        "\n",
        "import tqdm\n",
        "\n",
        "from datasets import load_dataset, Dataset\n",
        "from torch.utils.data import DataLoader"
      ]
    },
    {
      "cell_type": "code",
      "execution_count": 4,
      "metadata": {
        "id": "CesV4HPZ8iu3"
      },
      "outputs": [],
      "source": [
        "device = torch.device(\"cuda\" if torch.cuda.is_available() else \"cpu\")\n",
        "pipe_device = 0 if torch.cuda.is_available() else -1"
      ]
    },
    {
      "cell_type": "markdown",
      "metadata": {
        "id": "uJDigdUzcr6O"
      },
      "source": [
        "####Dataset"
      ]
    },
    {
      "cell_type": "code",
      "execution_count": 5,
      "metadata": {
        "colab": {
          "base_uri": "https://localhost:8080/"
        },
        "id": "KX0Xoqw93cHR",
        "outputId": "fe1372d7-5682-412d-84db-f4fca84b7e5a"
      },
      "outputs": [
        {
          "output_type": "execute_result",
          "data": {
            "text/plain": [
              "Dataset({\n",
              "    features: ['review', 'sentiment'],\n",
              "    num_rows: 24895\n",
              "})"
            ]
          },
          "metadata": {},
          "execution_count": 5
        }
      ],
      "source": [
        "ds = load_dataset('imdb', split='train')\n",
        "ds = ds.rename_columns({'text': 'review', 'label': 'sentiment'})\n",
        "ds = ds.filter(lambda x: len(x[\"review\"])>200, batched=False)\n",
        "ds"
      ]
    },
    {
      "cell_type": "markdown",
      "metadata": {
        "id": "fySb1PVAcxXZ"
      },
      "source": [
        "###Positive texts generation"
      ]
    },
    {
      "cell_type": "code",
      "execution_count": 6,
      "metadata": {
        "id": "lq06X3vs3cJl"
      },
      "outputs": [],
      "source": [
        "sent_kwargs = {\n",
        "    \"return_all_scores\": True,\n",
        "    \"function_to_apply\": \"none\",\n",
        "    \"batch_size\": 16\n",
        "}\n",
        "\n",
        "sentiment_pipe = pipeline(\"sentiment-analysis\",\"lvwerra/distilbert-imdb\", device=pipe_device)"
      ]
    },
    {
      "cell_type": "code",
      "execution_count": 7,
      "metadata": {
        "id": "3F4pt5Cg3m4H"
      },
      "outputs": [],
      "source": [
        "model = AutoModelForCausalLMWithValueHead.from_pretrained(\"lvwerra/gpt2-imdb\")\n",
        "model_ref = AutoModelForCausalLMWithValueHead.from_pretrained(\"lvwerra/gpt2-imdb\")\n",
        "\n",
        "tokenizer = AutoTokenizer.from_pretrained(\"lvwerra/gpt2-imdb\")\n",
        "tokenizer.pad_token = tokenizer.eos_token"
      ]
    },
    {
      "cell_type": "code",
      "execution_count": 8,
      "metadata": {
        "id": "NHOVU01A3m6t"
      },
      "outputs": [],
      "source": [
        "model.to(device);\n",
        "model_ref.to(device);"
      ]
    },
    {
      "cell_type": "code",
      "execution_count": 9,
      "metadata": {
        "id": "a1JRndEx3m9k"
      },
      "outputs": [],
      "source": [
        "class LengthSampler:\n",
        "    def __init__(self, min_value, max_value):\n",
        "        self.values = list(range(min_value, max_value))\n",
        "    def __call__(self):\n",
        "        return np.random.choice(self.values)\n",
        "\n",
        "input_size = LengthSampler(2, 8)\n",
        "output_size = LengthSampler(4, 16)"
      ]
    },
    {
      "cell_type": "code",
      "execution_count": 10,
      "metadata": {
        "id": "w821CfBn4Ylu"
      },
      "outputs": [],
      "source": [
        "def tokenize(sample):\n",
        "    sample[\"tokens\"] = tokenizer.encode(sample[\"review\"])[:input_size()]\n",
        "    sample[\"query\"] = tokenizer.decode(sample[\"tokens\"])\n",
        "    return sample\n",
        "\n",
        "ds = ds.map(tokenize, batched=False)"
      ]
    },
    {
      "cell_type": "code",
      "execution_count": 11,
      "metadata": {
        "id": "DkJRC0xz4YoZ"
      },
      "outputs": [],
      "source": [
        "gen_kwargs = {\n",
        "    \"min_length\":-1,\n",
        "    \"top_k\": 0.0,\n",
        "    \"top_p\": 1.0,\n",
        "    \"do_sample\": True,\n",
        "    \"pad_token_id\": tokenizer.eos_token_id\n",
        "}"
      ]
    },
    {
      "cell_type": "code",
      "execution_count": 12,
      "metadata": {
        "id": "YxX2CQpi4Yqr"
      },
      "outputs": [],
      "source": [
        "def collator(data):\n",
        "    return dict((key, [d[key] for d in data]) for key in data[0])\n",
        "\n",
        "dataloader = torch.utils.data.DataLoader(ds, batch_size=16, collate_fn=collator)"
      ]
    },
    {
      "cell_type": "code",
      "execution_count": null,
      "metadata": {
        "id": "NpTZa_m-VN7k"
      },
      "outputs": [],
      "source": [
        "ppo_config = {\"batch_size\": 16}\n",
        "config = PPOConfig(**ppo_config)\n",
        "ppo_trainer = PPOTrainer(config, model, model_ref, tokenizer)\n",
        "\n",
        "for batch in dataloader:\n",
        "  batches += 1\n",
        "  query_tensors = [torch.tensor(t).long().to(device) for t in batch[\"tokens\"]]\n",
        "  response_tensors = []\n",
        "  for i in range(16):\n",
        "    gen_len = output_size()\n",
        "    response = model.generate(query_tensors[i].unsqueeze(dim=0),\n",
        "                                       max_new_tokens=gen_len, **gen_kwargs)\n",
        "    response_tensors.append(response.squeeze()[-gen_len:])\n",
        "  batch['response'] = [tokenizer.decode(r.squeeze()) for r in response_tensors]\n",
        "\n",
        "  texts = [q + r for q,r in zip(batch['query'], batch['response'])]\n",
        "  pipe_outputs = sentiment_pipe(texts, **sent_kwargs)\n",
        "  rewards = torch.tensor([output[1][\"score\"] for output in pipe_outputs]).to(device)\n",
        "\n",
        "  stats = ppo_trainer.step(query_tensors, response_tensors, list(rewards.unsqueeze(dim=1)))"
      ]
    },
    {
      "cell_type": "code",
      "execution_count": 14,
      "metadata": {
        "id": "ZjlAIvvkpPs2",
        "colab": {
          "base_uri": "https://localhost:8080/"
        },
        "outputId": "73276b05-dbaa-47c7-9b71-9245e0c73036"
      },
      "outputs": [
        {
          "output_type": "execute_result",
          "data": {
            "text/plain": [
              "{'objective/kl': 6.990373611450195,\n",
              " 'objective/kl_dist': array([ 9.700549 ,  4.354264 ,  8.873707 , 10.600117 , 10.797907 ,\n",
              "        20.512352 ,  0.7161677, 11.6799   ,  6.2691326,  9.784451 ,\n",
              "         3.5457778,  2.067173 ,  5.056112 , -2.6304488,  9.719509 ,\n",
              "         0.7993088], dtype=float32),\n",
              " 'objective/logprobs': array([[-2.3046408e+00, -1.4951106e+00, -5.7072926e-01, -5.0022469e+00,\n",
              "         -6.2227094e-01, -1.3627381e+00, -5.6537974e-01, -5.5349894e+00,\n",
              "         -1.1662832e+00, -3.3556240e+00, -5.9100503e-01, -3.7657905e+00,\n",
              "         -1.0222048e+01, -4.1096721e+00, -4.1101480e+00, -4.1095815e+00,\n",
              "         -4.1653681e+00, -4.2329826e+00, -4.2400308e+00, -4.2558861e+00,\n",
              "         -4.3354282e+00],\n",
              "        [-4.1164865e+00, -6.1137700e+00, -6.1350818e+00, -1.2178225e+01,\n",
              "         -1.8964753e-01, -1.5901858e+00, -1.7377235e+00, -6.0566485e-01,\n",
              "         -7.9677591e+00, -9.1034897e-02, -4.8136264e-01, -8.1639786e+00,\n",
              "         -1.5151858e+00, -8.6803663e-01, -1.8727237e+00, -1.0450750e+01,\n",
              "         -4.1335931e+00, -4.1295242e+00, -4.1975689e+00, -4.2093940e+00,\n",
              "         -4.3059101e+00],\n",
              "        [-2.6711261e+00, -4.5344148e+00, -1.8536601e+00, -4.6886894e-01,\n",
              "         -2.7495699e+00, -1.4070492e+00, -1.8572947e+00, -1.1583743e+00,\n",
              "         -7.6465106e-01, -5.7553558e+00, -1.5391634e+00, -3.5343809e+00,\n",
              "         -6.1645842e+00, -6.4696169e+00, -2.4451028e-01, -8.1404943e+00,\n",
              "         -1.3428164e+00, -1.2669449e+01, -4.1303620e+00, -4.1499138e+00,\n",
              "         -4.2409878e+00],\n",
              "        [-4.1234069e+00, -7.1403799e+00, -6.0543194e+00, -2.4257565e+00,\n",
              "         -1.7394767e+00, -1.5322043e+00, -1.7521111e+00, -5.8869451e-01,\n",
              "         -6.6239613e-01, -1.0589302e+00, -5.6784964e-01, -1.4255253e+00,\n",
              "         -8.5295987e-01, -1.0263056e+01, -2.4453115e+00, -2.5003753e+00,\n",
              "         -2.6116934e+00, -2.7141972e+00, -2.8056993e+00, -2.8192267e+00,\n",
              "         -2.9188631e+00],\n",
              "        [-7.2166691e+00, -5.8776479e+00, -7.2837729e+00, -3.6913222e-01,\n",
              "         -1.6052524e+00, -3.0754572e-01, -8.1517344e+00, -9.0105069e-01,\n",
              "         -9.4691782e+00, -4.2034755e+00, -4.2677517e+00, -4.3087668e+00,\n",
              "         -4.3393970e+00, -4.3845744e+00, -4.4044976e+00, -4.4025068e+00,\n",
              "         -4.4684525e+00, -4.4786263e+00, -4.4994187e+00, -4.5031686e+00,\n",
              "         -4.5393190e+00],\n",
              "        [-7.1371856e+00, -1.4301775e+01, -4.0501509e+00, -4.9727798e-02,\n",
              "         -5.1822515e+00, -4.8545394e+00, -1.4112450e+00, -2.3377709e+00,\n",
              "         -3.7545145e+00, -1.6187312e-04, -5.3268852e+00, -2.3480883e+00,\n",
              "         -1.1399746e+01, -7.3002940e-01, -2.3141236e+00, -2.9569869e+00,\n",
              "         -5.1806327e-02, -3.3506618e+00, -1.6782771e+00, -5.2959623e+00,\n",
              "         -1.3442505e+01],\n",
              "        [-1.0812722e+01, -4.5230522e+00, -3.5656075e+00, -2.4366736e+00,\n",
              "         -5.5355949e+00, -1.4153937e-01, -7.4743776e+00, -3.1750543e+00,\n",
              "         -3.2168093e+00, -3.2680335e+00, -3.3276255e+00, -3.3661511e+00,\n",
              "         -3.4216290e+00, -3.4805906e+00, -3.5480492e+00, -3.5678148e+00,\n",
              "         -3.7040153e+00, -3.7539706e+00, -3.8178802e+00, -3.8827496e+00,\n",
              "         -3.9868259e+00],\n",
              "        [-5.9081573e+00, -1.9538410e-01, -6.8902512e+00, -3.8274407e+00,\n",
              "         -9.8024378e+00, -2.7531490e-01, -7.5452012e-01, -3.2259035e-01,\n",
              "         -2.8301134e+00, -2.9154754e-01, -1.6817940e+00, -9.2782879e+00,\n",
              "         -1.8583076e+00, -4.2919126e+00, -1.4016205e+00, -2.7685101e+00,\n",
              "         -9.1615858e+00, -9.5111017e+00, -5.2869091e+00, -5.2718496e+00,\n",
              "         -5.2749290e+00],\n",
              "        [-5.9081573e+00, -1.9538410e-01, -3.2399595e+00, -1.1737764e+00,\n",
              "         -1.7004776e+00, -4.7497263e+00, -4.6361685e+00, -1.5257059e+00,\n",
              "         -4.4854202e+00, -9.8603773e-01, -3.3889058e+00, -1.1207826e+01,\n",
              "         -4.2570429e+00, -4.3227329e+00, -4.3537216e+00, -4.3376141e+00,\n",
              "         -4.4196138e+00, -4.4711275e+00, -4.4982538e+00, -4.5079832e+00,\n",
              "         -4.5845137e+00],\n",
              "        [-4.9988346e+00, -2.2145493e+00, -8.8757747e-01, -4.4902020e+00,\n",
              "         -1.7734531e+01, -5.2250814e-01, -1.0068014e+01, -5.8116049e-01,\n",
              "         -1.6859417e+00, -4.5446072e+00, -3.1554701e+00, -4.4021931e-01,\n",
              "         -4.0537143e+00, -7.5571756e+00, -7.4338932e+00, -1.2108958e+00,\n",
              "         -9.1496048e+00, -5.0254717e+00, -6.1232696e+00, -7.4350772e+00,\n",
              "         -2.3620648e+00],\n",
              "        [-5.7923713e+00, -8.2608910e+00, -9.6531594e-01, -1.2983143e+01,\n",
              "         -1.0470651e+01, -5.6298506e-01, -7.9272761e+00, -3.2133601e+00,\n",
              "         -1.7528445e+00, -1.5510645e+00, -4.0541086e+00, -8.6732035e+00,\n",
              "         -8.6720829e+00, -8.6638546e+00, -8.6664352e+00, -8.6619959e+00,\n",
              "         -8.6522255e+00, -8.6594324e+00, -8.6553364e+00, -8.6534882e+00,\n",
              "         -8.6463013e+00],\n",
              "        [-3.0962665e+00, -2.2378452e+00, -3.3809848e+00, -1.8769730e+01,\n",
              "         -6.5039353e+00, -3.1070380e+00, -7.8755484e+00, -6.9705839e+00,\n",
              "         -2.8486738e+00, -7.5994906e+00, -3.1219635e+00, -1.2076676e+00,\n",
              "         -2.5803514e+00, -6.2989235e-01, -1.2174410e+01, -1.5367565e+00,\n",
              "         -1.6519082e+00, -1.7606932e+00, -1.8961236e+00, -1.9369950e+00,\n",
              "         -2.0740821e+00],\n",
              "        [-2.0783143e+00, -6.0371399e-01, -7.8037624e+00, -1.8622584e+00,\n",
              "         -4.3891919e-01, -9.6427441e-01, -9.8700881e-01, -1.0420890e+01,\n",
              "         -8.1943989e-01, -1.2575517e+01, -3.3959022e+00, -3.5220778e+00,\n",
              "         -3.6663601e+00, -3.8688281e+00, -3.9580076e+00, -3.9680841e+00,\n",
              "         -4.1857810e+00, -4.2080498e+00, -4.2883630e+00, -4.2896399e+00,\n",
              "         -4.4255419e+00],\n",
              "        [-9.4340305e+00, -1.9258778e-03, -3.6989605e-01, -6.4711676e+00,\n",
              "         -1.2992667e+00, -5.0558891e+00, -1.4644048e+01, -5.4247093e+00,\n",
              "         -5.5375690e+00, -5.5730829e+00, -5.6567488e+00, -5.6869841e+00,\n",
              "         -5.7360220e+00, -5.7610970e+00, -5.7815828e+00, -5.7940874e+00,\n",
              "         -5.8289447e+00, -5.8421230e+00, -5.8552737e+00, -5.8640342e+00,\n",
              "         -5.8769941e+00],\n",
              "        [-6.6260886e+00, -7.3465848e+00, -1.4156079e+00, -1.4457093e+00,\n",
              "         -5.8924050e+00, -8.3905725e+00, -3.1270232e+00, -6.1809230e+00,\n",
              "         -1.3596251e+01, -1.6339815e+00, -9.6440392e+00, -1.6836103e+00,\n",
              "         -7.9928145e+00, -2.8119221e+00, -2.3952270e+00, -6.0327357e-01,\n",
              "         -1.0398758e+01, -3.2520597e+00, -1.0364992e+01, -3.4582405e+00,\n",
              "         -3.6193154e+00],\n",
              "        [-6.6435404e+00, -4.8524194e+00, -5.1468611e+00, -4.1294341e+00,\n",
              "         -2.7430728e-01, -4.1415033e+00, -2.2517927e+01, -1.9743618e-01,\n",
              "         -2.4182796e-01, -1.8156571e+00, -2.0090895e+00, -3.9580189e-02,\n",
              "         -9.1874152e-01, -3.7426744e+00, -1.1272564e+00, -1.9182558e+00,\n",
              "         -1.2672155e+00, -8.7361059e+00, -8.7320347e+00, -8.7355433e+00,\n",
              "         -8.7353468e+00]], dtype=float32),\n",
              " 'objective/ref_logprobs': array([[-2.86623168e+00, -3.35274172e+00, -2.08513021e+00,\n",
              "         -8.20219707e+00, -1.12482667e+00, -2.20682454e+00,\n",
              "         -1.52508283e+00, -5.79988337e+00, -1.36678481e+00,\n",
              "         -2.74857879e+00, -8.48056436e-01, -4.47260952e+00,\n",
              "         -1.12075844e+01, -2.39294028e+00, -2.49023032e+00,\n",
              "         -2.55802464e+00, -2.69302034e+00, -2.82550550e+00,\n",
              "         -2.99836302e+00, -3.10026598e+00, -3.29135942e+00],\n",
              "        [-3.82469606e+00, -4.23085260e+00, -4.90626478e+00,\n",
              "         -1.02595539e+01, -2.94115037e-01, -2.80971360e+00,\n",
              "         -1.95029485e+00, -2.48899031e+00, -8.20137405e+00,\n",
              "         -7.42368042e-01, -8.35075855e-01, -7.75105095e+00,\n",
              "         -7.22722530e-01, -1.19662571e+00, -2.44523597e+00,\n",
              "         -1.02471924e+01, -3.30900383e+00, -3.32956505e+00,\n",
              "         -3.41087151e+00, -3.42466640e+00, -3.52801418e+00],\n",
              "        [-3.37991214e+00, -2.92290735e+00, -2.43157381e-04,\n",
              "         -5.15442014e-01, -3.96246338e+00, -1.62277043e+00,\n",
              "         -2.43589306e+00, -7.73301184e-01, -2.05533242e+00,\n",
              "         -4.64619541e+00, -6.84984350e+00, -4.02217770e+00,\n",
              "         -5.92512512e+00, -7.89483643e+00, -1.09790754e+00,\n",
              "         -6.54389191e+00, -2.12525606e+00, -1.19254990e+01,\n",
              "         -3.28744125e+00, -3.32269287e+00, -3.43905282e+00],\n",
              "        [-4.09850931e+00, -6.96833706e+00, -6.55839729e+00,\n",
              "         -3.30953574e+00, -2.56010485e+00, -4.03479099e+00,\n",
              "         -2.56865215e+00, -1.54719794e+00, -1.03510213e+00,\n",
              "         -2.06234002e+00, -9.94528115e-01, -3.25084209e+00,\n",
              "         -1.51089144e+00, -1.13852472e+01, -2.26977348e+00,\n",
              "         -2.33605957e+00, -2.42287874e+00, -2.54065847e+00,\n",
              "         -2.66549683e+00, -2.68858767e+00, -2.78984833e+00],\n",
              "        [-7.60519600e+00, -9.46341705e+00, -6.30518723e+00,\n",
              "         -3.85385895e+00, -1.42923307e+00, -2.98428273e+00,\n",
              "         -8.45863533e+00, -2.79942894e+00, -1.05995865e+01,\n",
              "         -3.53239965e+00, -3.62023211e+00, -3.69772768e+00,\n",
              "         -3.76823616e+00, -3.85317135e+00, -3.91782784e+00,\n",
              "         -3.93373179e+00, -4.02968073e+00, -4.06677389e+00,\n",
              "         -4.10902071e+00, -4.12074995e+00, -4.17113400e+00],\n",
              "        [-7.66571760e+00, -1.28089943e+01, -2.59982443e+00,\n",
              "         -2.06114887e-03, -5.30183315e+00, -6.21340847e+00,\n",
              "         -5.39738178e+00, -2.22977400e+00, -5.23428726e+00,\n",
              "         -4.89228358e-03, -7.79091167e+00, -1.59597814e+00,\n",
              "         -1.19778986e+01, -1.72682989e+00, -1.77925181e+00,\n",
              "         -2.86076069e+00, -1.39885783e-01, -9.21036148e+00,\n",
              "         -8.88591385e+00, -3.27561569e+00, -1.42518740e+01],\n",
              "        [-1.12448587e+01, -4.77115631e+00, -3.43008518e+00,\n",
              "         -3.64487338e+00, -4.57135487e+00, -5.01165628e-01,\n",
              "         -7.57914257e+00, -2.89646864e+00, -2.92633724e+00,\n",
              "         -2.96869493e+00, -3.00315738e+00, -3.02934289e+00,\n",
              "         -3.06431937e+00, -3.09263158e+00, -3.14346027e+00,\n",
              "         -3.15396142e+00, -3.20688725e+00, -3.24265051e+00,\n",
              "         -3.26277137e+00, -3.29389739e+00, -3.33719707e+00],\n",
              "        [-6.11958265e+00, -1.16633070e+00, -3.03126168e+00,\n",
              "         -4.96397734e+00, -8.19773388e+00, -2.75545686e-01,\n",
              "         -1.72737217e+00, -2.78445339e+00, -7.03555918e+00,\n",
              "         -7.53314257e-01, -2.12425494e+00, -1.08913212e+01,\n",
              "         -3.34634924e+00, -4.53345680e+00, -1.36668122e+00,\n",
              "         -3.34910703e+00, -8.40858936e+00, -1.10416203e+01,\n",
              "         -4.11220980e+00, -4.13830471e+00, -4.22860956e+00],\n",
              "        [-6.11958265e+00, -1.16633070e+00, -5.98752975e+00,\n",
              "         -1.24679828e+00, -2.16032553e+00, -3.89956093e+00,\n",
              "         -4.12635517e+00, -2.63406658e+00, -6.43060160e+00,\n",
              "         -1.67583644e+00, -3.99423647e+00, -1.18948689e+01,\n",
              "         -3.07509828e+00, -3.14723325e+00, -3.21294546e+00,\n",
              "         -3.23415184e+00, -3.30726576e+00, -3.37542105e+00,\n",
              "         -3.42831087e+00, -3.43412042e+00, -3.51159477e+00],\n",
              "        [-5.24462700e+00, -1.58124471e+00, -8.61362278e-01,\n",
              "         -5.53268957e+00, -1.52913141e+01, -1.66989028e+00,\n",
              "         -1.15569210e+01, -1.33922648e+00, -3.73813057e+00,\n",
              "         -4.72410917e+00, -5.66875935e+00, -1.57144606e+00,\n",
              "         -3.93371534e+00, -6.54530430e+00, -7.20706177e+00,\n",
              "         -1.95681953e+00, -7.94040632e+00, -8.93393993e+00,\n",
              "         -5.86905766e+00, -6.37254143e+00, -3.25359178e+00],\n",
              "        [-6.16161489e+00, -5.92791653e+00, -5.90871096e-01,\n",
              "         -1.19044437e+01, -9.33825874e+00, -4.85339582e-01,\n",
              "         -8.18732738e+00, -6.65045071e+00, -3.45505953e+00,\n",
              "         -2.12136078e+00, -3.91896963e+00, -7.25020695e+00,\n",
              "         -7.25096655e+00, -7.24662685e+00, -7.24494362e+00,\n",
              "         -7.24309587e+00, -7.23853397e+00, -7.24259758e+00,\n",
              "         -7.23971033e+00, -7.23623133e+00, -7.23193169e+00],\n",
              "        [-3.22143459e+00, -3.21835017e+00, -1.30914915e+00,\n",
              "         -1.05603952e+01, -4.19563484e+00, -3.34099269e+00,\n",
              "         -7.56046391e+00, -6.56544399e+00, -2.08345795e+00,\n",
              "         -8.55628395e+00, -4.05821037e+00, -1.26800168e+00,\n",
              "         -1.38090038e+00, -3.42858219e+00, -1.38989229e+01,\n",
              "         -1.02066541e+00, -1.21013868e+00, -1.39024448e+00,\n",
              "         -1.63793814e+00, -1.68894577e+00, -1.86086440e+00],\n",
              "        [-2.80799174e+00, -6.36993885e-01, -6.77544785e+00,\n",
              "         -1.28798199e+00, -9.56684232e-01, -4.88412142e+00,\n",
              "         -1.19782400e+00, -1.12257023e+01, -4.22312111e-01,\n",
              "         -1.42832403e+01, -2.77190351e+00, -2.86146784e+00,\n",
              "         -2.96667027e+00, -3.09053087e+00, -3.23495817e+00,\n",
              "         -3.26596999e+00, -3.43487024e+00, -3.47681832e+00,\n",
              "         -3.56329679e+00, -3.55965781e+00, -3.68525076e+00],\n",
              "        [-9.68211555e+00, -1.31091941e-03, -5.12764871e-01,\n",
              "         -5.07937527e+00, -8.38335991e-01, -4.13590956e+00,\n",
              "         -1.34111118e+01, -3.89260459e+00, -4.07085228e+00,\n",
              "         -4.13134384e+00, -4.25674391e+00, -4.29675055e+00,\n",
              "         -4.38478994e+00, -4.42664671e+00, -4.47512102e+00,\n",
              "         -4.50914145e+00, -4.55586243e+00, -4.58517504e+00,\n",
              "         -4.61907387e+00, -4.63038635e+00, -4.65948439e+00],\n",
              "        [-6.93700123e+00, -6.95773983e+00, -1.50870085e+00,\n",
              "         -9.45564389e-01, -3.98960400e+00, -8.52207756e+00,\n",
              "         -4.87933826e+00, -8.19642544e+00, -1.34727955e+01,\n",
              "         -2.35890722e+00, -9.39977074e+00, -3.17600918e+00,\n",
              "         -7.06562567e+00, -2.63872457e+00, -6.62860966e+00,\n",
              "         -1.36318171e+00, -1.12235794e+01, -2.63642430e+00,\n",
              "         -1.14047070e+01, -3.48353553e+00, -3.62263727e+00],\n",
              "        [-6.22540379e+00, -2.53582430e+00, -4.97275257e+00,\n",
              "         -3.57558703e+00, -1.28150678e+00, -2.30445719e+00,\n",
              "         -1.80631676e+01, -1.36701956e-01, -4.41991478e-01,\n",
              "         -1.80209947e+00, -5.74316919e-01, -9.21737701e-02,\n",
              "         -2.38085210e-01, -6.56220245e+00, -2.00875974e+00,\n",
              "         -4.25049019e+00, -2.42498136e+00, -7.39659452e+00,\n",
              "         -7.39620972e+00, -7.39498425e+00, -7.39546680e+00]], dtype=float32),\n",
              " 'objective/kl_coef': 0.19816234233731234,\n",
              " 'objective/entropy': 33.621559143066406,\n",
              " 'ppo/mean_non_score_reward': -0.1385228931903839,\n",
              " 'ppo/mean_scores': 2.0787062644958496,\n",
              " 'ppo/std_scores': 0.9535924196243286,\n",
              " 'tokens/queries_len_mean': 4.4375,\n",
              " 'tokens/queries_len_std': 2.064582347869873,\n",
              " 'tokens/queries_dist': array([2., 5., 4., 2., 2., 6., 2., 6., 3., 7., 4., 7., 5., 2., 7., 7.],\n",
              "       dtype=float32),\n",
              " 'tokens/responses_len_mean': 10.0,\n",
              " 'tokens/responses_len_std': 3.4058773517608643,\n",
              " 'tokens/responses_dist': array([11., 11., 14., 12.,  7., 15.,  5., 12.,  9., 15.,  8.,  8.,  5.,\n",
              "         5., 12., 11.], dtype=float32),\n",
              " 'ppo/loss/policy': -0.045815616846084595,\n",
              " 'ppo/loss/value': 0.22982251644134521,\n",
              " 'ppo/loss/total': -0.022833365947008133,\n",
              " 'ppo/policy/entropy': 2.8437345027923584,\n",
              " 'ppo/policy/approxkl': 0.9029088020324707,\n",
              " 'ppo/policy/policykl': -0.01969635672867298,\n",
              " 'ppo/policy/clipfrac': 0.42803704738616943,\n",
              " 'ppo/policy/advantages': array([1.5555389 , 1.6371337 , 1.723023  , ..., 0.00523546, 0.00523546,\n",
              "        0.00523546], dtype=float32),\n",
              " 'ppo/policy/advantages_mean': 0.06776712089776993,\n",
              " 'ppo/policy/ratio': array([1.        , 1.        , 1.        , ..., 0.51937336, 0.5218145 ,\n",
              "        0.5261221 ], dtype=float32),\n",
              " 'ppo/returns/mean': 1.334446668624878,\n",
              " 'ppo/returns/var': 0.3435165286064148,\n",
              " 'ppo/val/vpred': 1.3774436712265015,\n",
              " 'ppo/val/error': 0.4662697911262512,\n",
              " 'ppo/val/clipfrac': 0.1041666641831398,\n",
              " 'ppo/val/mean': 1.2871639728546143,\n",
              " 'ppo/val/var': 0.3817993402481079,\n",
              " 'ppo/val/var_explained': -0.35734307765960693,\n",
              " 'ppo/learning_rate': 1e-05,\n",
              " 'time/ppo/forward_pass': 0.3994426727294922,\n",
              " 'time/ppo/compute_rewards': 0.00235748291015625,\n",
              " 'time/ppo/compute_advantages': 0.001764059066772461,\n",
              " 'time/ppo/optimize_step': 5.324348211288452,\n",
              " 'time/ppo/calc_stats': 0.04481649398803711,\n",
              " 'time/ppo/total': 5.772875547409058}"
            ]
          },
          "metadata": {},
          "execution_count": 14
        }
      ],
      "source": [
        "stats"
      ]
    },
    {
      "cell_type": "code",
      "execution_count": null,
      "metadata": {
        "id": "7wCaz3LTpjrl"
      },
      "outputs": [],
      "source": [
        "torch.save(model.state_dict(), \"positive_model.pth\")"
      ]
    },
    {
      "cell_type": "code",
      "execution_count": 15,
      "metadata": {
        "id": "WcuDIhClbgyt",
        "colab": {
          "base_uri": "https://localhost:8080/"
        },
        "outputId": "560239b6-9926-4d2b-f24d-3b7fb7b49a64"
      },
      "outputs": [
        {
          "output_type": "stream",
          "name": "stderr",
          "text": [
            "The model 'AutoModelForCausalLMWithValueHead' is not supported for text-generation. Supported models are ['BartForCausalLM', 'BertLMHeadModel', 'BertGenerationDecoder', 'BigBirdForCausalLM', 'BigBirdPegasusForCausalLM', 'BioGptForCausalLM', 'BlenderbotForCausalLM', 'BlenderbotSmallForCausalLM', 'BloomForCausalLM', 'CamembertForCausalLM', 'LlamaForCausalLM', 'CodeGenForCausalLM', 'CpmAntForCausalLM', 'CTRLLMHeadModel', 'Data2VecTextForCausalLM', 'ElectraForCausalLM', 'ErnieForCausalLM', 'FalconForCausalLM', 'FuyuForCausalLM', 'GitForCausalLM', 'GPT2LMHeadModel', 'GPT2LMHeadModel', 'GPTBigCodeForCausalLM', 'GPTNeoForCausalLM', 'GPTNeoXForCausalLM', 'GPTNeoXJapaneseForCausalLM', 'GPTJForCausalLM', 'LlamaForCausalLM', 'MarianForCausalLM', 'MBartForCausalLM', 'MegaForCausalLM', 'MegatronBertForCausalLM', 'MistralForCausalLM', 'MptForCausalLM', 'MusicgenForCausalLM', 'MvpForCausalLM', 'OpenLlamaForCausalLM', 'OpenAIGPTLMHeadModel', 'OPTForCausalLM', 'PegasusForCausalLM', 'PersimmonForCausalLM', 'PLBartForCausalLM', 'ProphetNetForCausalLM', 'QDQBertLMHeadModel', 'ReformerModelWithLMHead', 'RemBertForCausalLM', 'RobertaForCausalLM', 'RobertaPreLayerNormForCausalLM', 'RoCBertForCausalLM', 'RoFormerForCausalLM', 'RwkvForCausalLM', 'Speech2Text2ForCausalLM', 'TransfoXLLMHeadModel', 'TrOCRForCausalLM', 'WhisperForCausalLM', 'XGLMForCausalLM', 'XLMWithLMHeadModel', 'XLMProphetNetForCausalLM', 'XLMRobertaForCausalLM', 'XLMRobertaXLForCausalLM', 'XLNetLMHeadModel', 'XmodForCausalLM'].\n"
          ]
        }
      ],
      "source": [
        "text_generation = pipeline(\"text-generation\", model=model, tokenizer = AutoTokenizer.from_pretrained(\"lvwerra/gpt2-imdb\"), device=pipe_device)"
      ]
    },
    {
      "cell_type": "code",
      "execution_count": null,
      "metadata": {
        "id": "B3P6OklGdh-Q"
      },
      "outputs": [],
      "source": [
        "positive_texts = []\n",
        "inputs = ds['query'][:100]\n",
        "\n",
        "for input in inputs:\n",
        "  generated_text = text_generation(input, max_length=50, do_sample=False)[0]\n",
        "  positive_texts.append(generated_text[\"generated_text\"])"
      ]
    },
    {
      "cell_type": "code",
      "execution_count": 19,
      "metadata": {
        "colab": {
          "base_uri": "https://localhost:8080/"
        },
        "id": "NUgMBBtvd_Dx",
        "outputId": "ab1512a5-644f-46c7-d2d9-75a8bc1a39bb"
      },
      "outputs": [
        {
          "output_type": "execute_result",
          "data": {
            "text/plain": [
              "['I rented I AM COO and I loved it. I loved it and I love it. I love it. I love it. I love it. I love it. I love it. I love it. I love it. I love it',\n",
              " '\"I Am A Woman\" is a great film, and I love it. It is a great film, and it is a great movie. It is a great film, and it is a great movie. It is a great film, and it',\n",
              " 'If only to avoid making this type of film so great, it is great. The film is great, and the characters are great. The film is a great film, and I love it. It is a great film, and I love it.',\n",
              " 'This film was probably inspired by the wonderful and wonderful work of the wonderful and wonderful people of the world. I loved this film and I loved it. I loved it. I loved it. I loved it. I loved it. I loved it.',\n",
              " 'Oh, brother. I love this film. It is a great story, and it is a great movie. It is a great movie, and it is a great movie. I love it. I love it. I love it. I love it']"
            ]
          },
          "metadata": {},
          "execution_count": 19
        }
      ],
      "source": [
        "positive_texts[:5]"
      ]
    },
    {
      "cell_type": "markdown",
      "metadata": {
        "id": "hVz9XoTFdsy6"
      },
      "source": [
        "###Reward calculation"
      ]
    },
    {
      "cell_type": "markdown",
      "metadata": {
        "id": "xWhqhQzseKBD"
      },
      "source": [
        "Сгенерируйте N текстов с помощью sft модели, посчитайте reward для каждого с помощью https://huggingface.co/lvwerra/distilbert-imdb. Логиты бинарного классификатора можно использовать в качестве значения reward. Больше значение логита — более позитивный текст."
      ]
    },
    {
      "cell_type": "code",
      "execution_count": 20,
      "metadata": {
        "id": "-aiD8pKnd3Tm",
        "colab": {
          "base_uri": "https://localhost:8080/"
        },
        "outputId": "2bdec395-7a71-4fcf-9f66-212adf85785d"
      },
      "outputs": [
        {
          "output_type": "stream",
          "name": "stderr",
          "text": [
            "/usr/local/lib/python3.10/dist-packages/transformers/pipelines/text_classification.py:105: UserWarning: `return_all_scores` is now deprecated,  if want a similar functionality use `top_k=None` instead of `return_all_scores=True` or `top_k=1` instead of `return_all_scores=False`.\n",
            "  warnings.warn(\n",
            "/usr/local/lib/python3.10/dist-packages/transformers/pipelines/base.py:1101: UserWarning: You seem to be using the pipelines sequentially on GPU. In order to maximize efficiency please use a dataset\n",
            "  warnings.warn(\n"
          ]
        }
      ],
      "source": [
        "pipe_outputs = sentiment_pipe(positive_texts, **sent_kwargs)\n",
        "rewards = torch.tensor([output[1][\"score\"] for output in pipe_outputs]).to(device)"
      ]
    },
    {
      "cell_type": "code",
      "execution_count": 21,
      "metadata": {
        "colab": {
          "base_uri": "https://localhost:8080/"
        },
        "id": "-LM6KGR6fDyz",
        "outputId": "585a9bea-f2ef-4f7e-e40e-f5aa900541d9"
      },
      "outputs": [
        {
          "output_type": "execute_result",
          "data": {
            "text/plain": [
              "tensor([ 2.7890,  2.9261,  2.9231,  2.8709,  2.9057,  2.9291,  2.9269,  2.8812,\n",
              "         2.7938,  2.9240,  2.8896,  2.9251,  2.8484,  2.9094,  2.9128,  2.9337,\n",
              "         2.9194,  2.8791,  2.8541,  2.9279,  2.9247,  2.9246,  2.9120,  2.9200,\n",
              "         2.8403,  2.7824,  2.9156,  2.9184,  2.8371,  2.9048,  2.8095,  2.9226,\n",
              "         2.8075,  2.9128,  2.7711,  2.8817,  2.7645,  2.8747,  2.7927,  2.9096,\n",
              "         2.8274,  2.8032,  2.8812,  2.8953,  2.7710, -0.3603,  2.9110,  2.9280,\n",
              "         2.9189,  2.9047,  2.8205,  2.9100,  2.9106,  2.9351,  2.9353,  2.9123,\n",
              "         2.8719,  2.9146,  2.9242,  2.7105,  2.9173,  2.9059,  2.8188,  2.8481,\n",
              "         2.8482,  2.8942,  2.9357,  2.6619,  2.9236,  2.9320,  2.9175,  2.9112,\n",
              "         2.9147,  2.8978,  2.9142,  2.8498,  2.9041,  2.9190,  2.9138,  2.8776,\n",
              "         2.9190,  2.7944,  2.9263,  2.8712,  2.9140,  2.9312,  2.7510,  2.9131,\n",
              "         2.8377,  2.8991,  2.6736,  2.9229,  2.7092,  2.9366,  2.8930,  2.2871,\n",
              "         2.8371,  2.9128,  2.8240,  2.9293], device='cuda:0')"
            ]
          },
          "metadata": {},
          "execution_count": 21
        }
      ],
      "source": [
        "rewards"
      ]
    },
    {
      "cell_type": "code",
      "execution_count": 22,
      "metadata": {
        "id": "sMARSMwHaTDQ"
      },
      "outputs": [],
      "source": [
        "idx_rew = []\n",
        "idx_text = {}\n",
        "for i in range(len(rewards)):\n",
        "  idx_rew.append((i, rewards[i].item()))\n",
        "  idx_text[i] = positive_texts[i]"
      ]
    },
    {
      "cell_type": "markdown",
      "metadata": {
        "id": "sJgbWxYmvBwe"
      },
      "source": [
        "####Winner-loser dataset"
      ]
    },
    {
      "cell_type": "markdown",
      "metadata": {
        "id": "r6dTZqdCuptI"
      },
      "source": [
        "Представим, что это все -- кандидаты для одного задания (\"Сгенерируй позитивный отзыв на фильм\")."
      ]
    },
    {
      "cell_type": "code",
      "execution_count": 23,
      "metadata": {
        "id": "DhHrVw0CvBVI"
      },
      "outputs": [],
      "source": [
        "def winner_loser_dataset(idx_rew, idx_text):\n",
        "  winners_main = []\n",
        "  losers_main = []\n",
        "  rewards = idx_rew[::]\n",
        "  while len(losers_main) < 99:\n",
        "    winners, losers, rewards = one_level_comparison(rewards)\n",
        "    winners_main.extend(winners)\n",
        "    losers_main.extend(losers)\n",
        "\n",
        "  winners_text = []\n",
        "  losers_text = []\n",
        "  for winner in winners_main:\n",
        "    winners_text.append(idx_text[winner])\n",
        "  for loser in losers_main:\n",
        "    losers_text.append(idx_text[loser])\n",
        "  return winners_text, losers_text\n",
        "\n",
        "\n",
        "def one_level_comparison(idx_rew):\n",
        "  losers = []\n",
        "  winners = []\n",
        "  to_delete = []\n",
        "  for i in range(0, len(idx_rew)-1, 2):\n",
        "    if idx_rew[i][1] > idx_rew[i+1][1]:\n",
        "      winners.append(idx_rew[i][0])\n",
        "      losers.append(idx_rew[i+1][0])\n",
        "      to_delete.append(idx_rew[i+1])\n",
        "    else:\n",
        "      losers.append(idx_rew[i][0])\n",
        "      winners.append(idx_rew[i+1][0])\n",
        "      to_delete.append(idx_rew[i])\n",
        "  rest = idx_rew[::]\n",
        "  for loser in to_delete:\n",
        "    rest.remove(loser)\n",
        "\n",
        "  return winners, losers, rest"
      ]
    },
    {
      "cell_type": "code",
      "execution_count": 24,
      "metadata": {
        "colab": {
          "base_uri": "https://localhost:8080/"
        },
        "id": "qGUmHO1RWV7o",
        "outputId": "be5821bb-ef09-4652-bf2f-00df660c454d"
      },
      "outputs": [
        {
          "output_type": "stream",
          "name": "stdout",
          "text": [
            "99\n",
            "99\n"
          ]
        }
      ],
      "source": [
        "winners, losers = winner_loser_dataset(idx_rew, idx_text)\n",
        "print(len(winners))\n",
        "print(len(losers))"
      ]
    },
    {
      "cell_type": "code",
      "execution_count": 25,
      "metadata": {
        "id": "J05qX-vYhhtb"
      },
      "outputs": [],
      "source": [
        "di = {'winner': winners, 'loser': losers}\n",
        "\n",
        "pos_ds = pd.DataFrame(di)"
      ]
    },
    {
      "cell_type": "code",
      "execution_count": 26,
      "metadata": {
        "colab": {
          "base_uri": "https://localhost:8080/",
          "height": 419
        },
        "id": "MdOE-Lx5ZRn-",
        "outputId": "9e14448c-7521-4ea9-a847-b7fefb291e6e"
      },
      "outputs": [
        {
          "output_type": "execute_result",
          "data": {
            "text/plain": [
              "                                               winner  \\\n",
              "0   \"I Am A Woman\" is a great film, and I love it....   \n",
              "1   If only to avoid making this type of film so g...   \n",
              "2   I would put this at the top of my list of grea...   \n",
              "3   Whoever wrote the screenplay for this movie, i...   \n",
              "4   This is said to be a great film, it is a great...   \n",
              "..                                                ...   \n",
              "94  This has to be the best film I have seen in ye...   \n",
              "95  Not only is this a great film, it is a great f...   \n",
              "96  This has to be the best film I have seen in ye...   \n",
              "97  Not only is this a great film, it is a great f...   \n",
              "98  Not only is this a great film, it is a great f...   \n",
              "\n",
              "                                                loser  \n",
              "0   I rented I AM COO and I loved it. I loved it a...  \n",
              "1   This film was probably inspired by the wonderf...  \n",
              "2   Oh, brother. I love this film. It is a great s...  \n",
              "3   When I first saw a glimpse of this wonderful f...  \n",
              "4   Who are these \"They\"-like characters, and I lo...  \n",
              "..                                                ...  \n",
              "94  I have to say I am really impressed with this ...  \n",
              "95  There's not just one great film, it's a great ...  \n",
              "96  This film is great, and I love it. It is a gre...  \n",
              "97  This film is great, and it is a great film. It...  \n",
              "98  This has to be the best film I have seen in ye...  \n",
              "\n",
              "[99 rows x 2 columns]"
            ],
            "text/html": [
              "\n",
              "  <div id=\"df-1ba77987-bb07-4f43-9afa-3f8a5ed2dbdc\" class=\"colab-df-container\">\n",
              "    <div>\n",
              "<style scoped>\n",
              "    .dataframe tbody tr th:only-of-type {\n",
              "        vertical-align: middle;\n",
              "    }\n",
              "\n",
              "    .dataframe tbody tr th {\n",
              "        vertical-align: top;\n",
              "    }\n",
              "\n",
              "    .dataframe thead th {\n",
              "        text-align: right;\n",
              "    }\n",
              "</style>\n",
              "<table border=\"1\" class=\"dataframe\">\n",
              "  <thead>\n",
              "    <tr style=\"text-align: right;\">\n",
              "      <th></th>\n",
              "      <th>winner</th>\n",
              "      <th>loser</th>\n",
              "    </tr>\n",
              "  </thead>\n",
              "  <tbody>\n",
              "    <tr>\n",
              "      <th>0</th>\n",
              "      <td>\"I Am A Woman\" is a great film, and I love it....</td>\n",
              "      <td>I rented I AM COO and I loved it. I loved it a...</td>\n",
              "    </tr>\n",
              "    <tr>\n",
              "      <th>1</th>\n",
              "      <td>If only to avoid making this type of film so g...</td>\n",
              "      <td>This film was probably inspired by the wonderf...</td>\n",
              "    </tr>\n",
              "    <tr>\n",
              "      <th>2</th>\n",
              "      <td>I would put this at the top of my list of grea...</td>\n",
              "      <td>Oh, brother. I love this film. It is a great s...</td>\n",
              "    </tr>\n",
              "    <tr>\n",
              "      <th>3</th>\n",
              "      <td>Whoever wrote the screenplay for this movie, i...</td>\n",
              "      <td>When I first saw a glimpse of this wonderful f...</td>\n",
              "    </tr>\n",
              "    <tr>\n",
              "      <th>4</th>\n",
              "      <td>This is said to be a great film, it is a great...</td>\n",
              "      <td>Who are these \"They\"-like characters, and I lo...</td>\n",
              "    </tr>\n",
              "    <tr>\n",
              "      <th>...</th>\n",
              "      <td>...</td>\n",
              "      <td>...</td>\n",
              "    </tr>\n",
              "    <tr>\n",
              "      <th>94</th>\n",
              "      <td>This has to be the best film I have seen in ye...</td>\n",
              "      <td>I have to say I am really impressed with this ...</td>\n",
              "    </tr>\n",
              "    <tr>\n",
              "      <th>95</th>\n",
              "      <td>Not only is this a great film, it is a great f...</td>\n",
              "      <td>There's not just one great film, it's a great ...</td>\n",
              "    </tr>\n",
              "    <tr>\n",
              "      <th>96</th>\n",
              "      <td>This has to be the best film I have seen in ye...</td>\n",
              "      <td>This film is great, and I love it. It is a gre...</td>\n",
              "    </tr>\n",
              "    <tr>\n",
              "      <th>97</th>\n",
              "      <td>Not only is this a great film, it is a great f...</td>\n",
              "      <td>This film is great, and it is a great film. It...</td>\n",
              "    </tr>\n",
              "    <tr>\n",
              "      <th>98</th>\n",
              "      <td>Not only is this a great film, it is a great f...</td>\n",
              "      <td>This has to be the best film I have seen in ye...</td>\n",
              "    </tr>\n",
              "  </tbody>\n",
              "</table>\n",
              "<p>99 rows × 2 columns</p>\n",
              "</div>\n",
              "    <div class=\"colab-df-buttons\">\n",
              "\n",
              "  <div class=\"colab-df-container\">\n",
              "    <button class=\"colab-df-convert\" onclick=\"convertToInteractive('df-1ba77987-bb07-4f43-9afa-3f8a5ed2dbdc')\"\n",
              "            title=\"Convert this dataframe to an interactive table.\"\n",
              "            style=\"display:none;\">\n",
              "\n",
              "  <svg xmlns=\"http://www.w3.org/2000/svg\" height=\"24px\" viewBox=\"0 -960 960 960\">\n",
              "    <path d=\"M120-120v-720h720v720H120Zm60-500h600v-160H180v160Zm220 220h160v-160H400v160Zm0 220h160v-160H400v160ZM180-400h160v-160H180v160Zm440 0h160v-160H620v160ZM180-180h160v-160H180v160Zm440 0h160v-160H620v160Z\"/>\n",
              "  </svg>\n",
              "    </button>\n",
              "\n",
              "  <style>\n",
              "    .colab-df-container {\n",
              "      display:flex;\n",
              "      gap: 12px;\n",
              "    }\n",
              "\n",
              "    .colab-df-convert {\n",
              "      background-color: #E8F0FE;\n",
              "      border: none;\n",
              "      border-radius: 50%;\n",
              "      cursor: pointer;\n",
              "      display: none;\n",
              "      fill: #1967D2;\n",
              "      height: 32px;\n",
              "      padding: 0 0 0 0;\n",
              "      width: 32px;\n",
              "    }\n",
              "\n",
              "    .colab-df-convert:hover {\n",
              "      background-color: #E2EBFA;\n",
              "      box-shadow: 0px 1px 2px rgba(60, 64, 67, 0.3), 0px 1px 3px 1px rgba(60, 64, 67, 0.15);\n",
              "      fill: #174EA6;\n",
              "    }\n",
              "\n",
              "    .colab-df-buttons div {\n",
              "      margin-bottom: 4px;\n",
              "    }\n",
              "\n",
              "    [theme=dark] .colab-df-convert {\n",
              "      background-color: #3B4455;\n",
              "      fill: #D2E3FC;\n",
              "    }\n",
              "\n",
              "    [theme=dark] .colab-df-convert:hover {\n",
              "      background-color: #434B5C;\n",
              "      box-shadow: 0px 1px 3px 1px rgba(0, 0, 0, 0.15);\n",
              "      filter: drop-shadow(0px 1px 2px rgba(0, 0, 0, 0.3));\n",
              "      fill: #FFFFFF;\n",
              "    }\n",
              "  </style>\n",
              "\n",
              "    <script>\n",
              "      const buttonEl =\n",
              "        document.querySelector('#df-1ba77987-bb07-4f43-9afa-3f8a5ed2dbdc button.colab-df-convert');\n",
              "      buttonEl.style.display =\n",
              "        google.colab.kernel.accessAllowed ? 'block' : 'none';\n",
              "\n",
              "      async function convertToInteractive(key) {\n",
              "        const element = document.querySelector('#df-1ba77987-bb07-4f43-9afa-3f8a5ed2dbdc');\n",
              "        const dataTable =\n",
              "          await google.colab.kernel.invokeFunction('convertToInteractive',\n",
              "                                                    [key], {});\n",
              "        if (!dataTable) return;\n",
              "\n",
              "        const docLinkHtml = 'Like what you see? Visit the ' +\n",
              "          '<a target=\"_blank\" href=https://colab.research.google.com/notebooks/data_table.ipynb>data table notebook</a>'\n",
              "          + ' to learn more about interactive tables.';\n",
              "        element.innerHTML = '';\n",
              "        dataTable['output_type'] = 'display_data';\n",
              "        await google.colab.output.renderOutput(dataTable, element);\n",
              "        const docLink = document.createElement('div');\n",
              "        docLink.innerHTML = docLinkHtml;\n",
              "        element.appendChild(docLink);\n",
              "      }\n",
              "    </script>\n",
              "  </div>\n",
              "\n",
              "\n",
              "<div id=\"df-3355a630-8a75-4dbf-ae92-e34a86f15bb5\">\n",
              "  <button class=\"colab-df-quickchart\" onclick=\"quickchart('df-3355a630-8a75-4dbf-ae92-e34a86f15bb5')\"\n",
              "            title=\"Suggest charts\"\n",
              "            style=\"display:none;\">\n",
              "\n",
              "<svg xmlns=\"http://www.w3.org/2000/svg\" height=\"24px\"viewBox=\"0 0 24 24\"\n",
              "     width=\"24px\">\n",
              "    <g>\n",
              "        <path d=\"M19 3H5c-1.1 0-2 .9-2 2v14c0 1.1.9 2 2 2h14c1.1 0 2-.9 2-2V5c0-1.1-.9-2-2-2zM9 17H7v-7h2v7zm4 0h-2V7h2v10zm4 0h-2v-4h2v4z\"/>\n",
              "    </g>\n",
              "</svg>\n",
              "  </button>\n",
              "\n",
              "<style>\n",
              "  .colab-df-quickchart {\n",
              "      --bg-color: #E8F0FE;\n",
              "      --fill-color: #1967D2;\n",
              "      --hover-bg-color: #E2EBFA;\n",
              "      --hover-fill-color: #174EA6;\n",
              "      --disabled-fill-color: #AAA;\n",
              "      --disabled-bg-color: #DDD;\n",
              "  }\n",
              "\n",
              "  [theme=dark] .colab-df-quickchart {\n",
              "      --bg-color: #3B4455;\n",
              "      --fill-color: #D2E3FC;\n",
              "      --hover-bg-color: #434B5C;\n",
              "      --hover-fill-color: #FFFFFF;\n",
              "      --disabled-bg-color: #3B4455;\n",
              "      --disabled-fill-color: #666;\n",
              "  }\n",
              "\n",
              "  .colab-df-quickchart {\n",
              "    background-color: var(--bg-color);\n",
              "    border: none;\n",
              "    border-radius: 50%;\n",
              "    cursor: pointer;\n",
              "    display: none;\n",
              "    fill: var(--fill-color);\n",
              "    height: 32px;\n",
              "    padding: 0;\n",
              "    width: 32px;\n",
              "  }\n",
              "\n",
              "  .colab-df-quickchart:hover {\n",
              "    background-color: var(--hover-bg-color);\n",
              "    box-shadow: 0 1px 2px rgba(60, 64, 67, 0.3), 0 1px 3px 1px rgba(60, 64, 67, 0.15);\n",
              "    fill: var(--button-hover-fill-color);\n",
              "  }\n",
              "\n",
              "  .colab-df-quickchart-complete:disabled,\n",
              "  .colab-df-quickchart-complete:disabled:hover {\n",
              "    background-color: var(--disabled-bg-color);\n",
              "    fill: var(--disabled-fill-color);\n",
              "    box-shadow: none;\n",
              "  }\n",
              "\n",
              "  .colab-df-spinner {\n",
              "    border: 2px solid var(--fill-color);\n",
              "    border-color: transparent;\n",
              "    border-bottom-color: var(--fill-color);\n",
              "    animation:\n",
              "      spin 1s steps(1) infinite;\n",
              "  }\n",
              "\n",
              "  @keyframes spin {\n",
              "    0% {\n",
              "      border-color: transparent;\n",
              "      border-bottom-color: var(--fill-color);\n",
              "      border-left-color: var(--fill-color);\n",
              "    }\n",
              "    20% {\n",
              "      border-color: transparent;\n",
              "      border-left-color: var(--fill-color);\n",
              "      border-top-color: var(--fill-color);\n",
              "    }\n",
              "    30% {\n",
              "      border-color: transparent;\n",
              "      border-left-color: var(--fill-color);\n",
              "      border-top-color: var(--fill-color);\n",
              "      border-right-color: var(--fill-color);\n",
              "    }\n",
              "    40% {\n",
              "      border-color: transparent;\n",
              "      border-right-color: var(--fill-color);\n",
              "      border-top-color: var(--fill-color);\n",
              "    }\n",
              "    60% {\n",
              "      border-color: transparent;\n",
              "      border-right-color: var(--fill-color);\n",
              "    }\n",
              "    80% {\n",
              "      border-color: transparent;\n",
              "      border-right-color: var(--fill-color);\n",
              "      border-bottom-color: var(--fill-color);\n",
              "    }\n",
              "    90% {\n",
              "      border-color: transparent;\n",
              "      border-bottom-color: var(--fill-color);\n",
              "    }\n",
              "  }\n",
              "</style>\n",
              "\n",
              "  <script>\n",
              "    async function quickchart(key) {\n",
              "      const quickchartButtonEl =\n",
              "        document.querySelector('#' + key + ' button');\n",
              "      quickchartButtonEl.disabled = true;  // To prevent multiple clicks.\n",
              "      quickchartButtonEl.classList.add('colab-df-spinner');\n",
              "      try {\n",
              "        const charts = await google.colab.kernel.invokeFunction(\n",
              "            'suggestCharts', [key], {});\n",
              "      } catch (error) {\n",
              "        console.error('Error during call to suggestCharts:', error);\n",
              "      }\n",
              "      quickchartButtonEl.classList.remove('colab-df-spinner');\n",
              "      quickchartButtonEl.classList.add('colab-df-quickchart-complete');\n",
              "    }\n",
              "    (() => {\n",
              "      let quickchartButtonEl =\n",
              "        document.querySelector('#df-3355a630-8a75-4dbf-ae92-e34a86f15bb5 button');\n",
              "      quickchartButtonEl.style.display =\n",
              "        google.colab.kernel.accessAllowed ? 'block' : 'none';\n",
              "    })();\n",
              "  </script>\n",
              "</div>\n",
              "    </div>\n",
              "  </div>\n"
            ]
          },
          "metadata": {},
          "execution_count": 26
        }
      ],
      "source": [
        "pos_ds"
      ]
    },
    {
      "cell_type": "markdown",
      "metadata": {
        "id": "G-suvK8Waj3d"
      },
      "source": [
        "###Model training"
      ]
    },
    {
      "cell_type": "markdown",
      "metadata": {
        "id": "hkUwfnZ8agW9"
      },
      "source": [
        "Обучите sft модель на полученном датасете с лоссом из статьи. На этом этапе рекомендуется использовать DPOTrainer из библиотеки trl: https://huggingface.co/docs/trl/main/en/dpo_trainer#trl.DPOTrainer. Обратите внимание, что там можно указать loss_type =”hinge”.\n"
      ]
    },
    {
      "cell_type": "code",
      "source": [
        "data_loader = DataLoader(dpo_dataset_dict, batch_size=8, shuffle=True)"
      ],
      "metadata": {
        "id": "EoU5CQ2CqtSM"
      },
      "execution_count": 39,
      "outputs": []
    },
    {
      "cell_type": "code",
      "execution_count": 27,
      "metadata": {
        "colab": {
          "base_uri": "https://localhost:8080/"
        },
        "id": "sfpUGbVcgWX8",
        "outputId": "9e30323f-c5a4-416b-ff21-951b0ad574b2"
      },
      "outputs": [
        {
          "output_type": "execute_result",
          "data": {
            "text/plain": [
              "Dataset({\n",
              "    features: ['winner', 'loser'],\n",
              "    num_rows: 99\n",
              "})"
            ]
          },
          "metadata": {},
          "execution_count": 27
        }
      ],
      "source": [
        "dataset = Dataset.from_pandas(pos_ds)\n",
        "dataset"
      ]
    },
    {
      "cell_type": "code",
      "execution_count": 28,
      "metadata": {
        "colab": {
          "base_uri": "https://localhost:8080/"
        },
        "id": "_UHzzESRj0zQ",
        "outputId": "64e30c1e-da1e-4d2e-997d-ee25dda6ed6f"
      },
      "outputs": [
        {
          "output_type": "execute_result",
          "data": {
            "text/plain": [
              "{'winner': ['\"I Am A Woman\" is a great film, and I love it. It is a great film, and it is a great movie. It is a great film, and it is a great movie. It is a great film, and it',\n",
              "  'If only to avoid making this type of film so great, it is great. The film is great, and the characters are great. The film is a great film, and I love it. It is a great film, and I love it.',\n",
              "  'I would put this at the top of my list of great films. It is a great film, and it is a great film. It is a great film, and it is a great film. It is a great film, and it is a',\n",
              "  'Whoever wrote the screenplay for this movie, it is a great film. It is a great film, and I love it. It is a great film, and I love it. It is a great film, and I love it. It is a',\n",
              "  'This is said to be a great film, it is a great film, and it is a great film. It is a great film, and it is a great film. It is a great film, and it is a great film. It is'],\n",
              " 'loser': ['I rented I AM COO and I loved it. I loved it and I love it. I love it. I love it. I love it. I love it. I love it. I love it. I love it. I love it',\n",
              "  'This film was probably inspired by the wonderful and wonderful work of the wonderful and wonderful people of the world. I loved this film and I loved it. I loved it. I loved it. I loved it. I loved it. I loved it.',\n",
              "  'Oh, brother. I love this film. It is a great story, and it is a great movie. It is a great movie, and it is a great movie. I love it. I love it. I love it. I love it',\n",
              "  'When I first saw a glimpse of this wonderful film, I loved it. It is a great film, and I love it. I love it. I love it. I love it. I love it. I love it. I love it.',\n",
              "  'Who are these \"They\"-like characters, and I love them. I love the way they are so very funny and so believable. I love the way they are so believable and so great. I love the way they are so believable. I love']}"
            ]
          },
          "metadata": {},
          "execution_count": 28
        }
      ],
      "source": [
        "dataset[:5]"
      ]
    },
    {
      "cell_type": "code",
      "source": [
        "dpo_dataset_dict = {\n",
        "    \"prompt\": [\n",
        "        \"\" * 99\n",
        "    ],\n",
        "    \"chosen\": list(pos_ds.winner),\n",
        "    \"rejected\": list(pos_ds.loser),\n",
        "}"
      ],
      "metadata": {
        "id": "GE1UVGJtqEU2"
      },
      "execution_count": 34,
      "outputs": []
    },
    {
      "cell_type": "code",
      "execution_count": null,
      "metadata": {
        "id": "br-5sa5IaeCN"
      },
      "outputs": [],
      "source": [
        "model = model\n",
        "model_ref = model\n",
        "\n",
        "dpo_trainer = DPOTrainer(\n",
        "    model,\n",
        "    model_ref,\n",
        "    beta=0.1,\n",
        "    train_dataset=data_loader,\n",
        "    tokenizer=tokenizer,\n",
        "    loss_type = \"hinge\"\n",
        "#    args=training_args,    # training arguments e.g. batch size, lr, etc.\n",
        ")\n",
        "\n",
        "\n",
        "dpo_trainer.train()\n",
        "dpo_trainer.save_model()"
      ]
    }
  ],
  "metadata": {
    "accelerator": "GPU",
    "colab": {
      "provenance": []
    },
    "kernelspec": {
      "display_name": "Python 3",
      "name": "python3"
    },
    "language_info": {
      "name": "python"
    }
  },
  "nbformat": 4,
  "nbformat_minor": 0
}